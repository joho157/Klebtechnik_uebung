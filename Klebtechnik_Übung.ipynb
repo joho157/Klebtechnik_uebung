{
 "cells": [
  {
   "cell_type": "markdown",
   "metadata": {},
   "source": [
    "## Klebtechnik Berechnungsübung Nr. 1\n",
    "### Arbeiten mit Jupyter Notebooks\n",
    "_jupyter notebooks_ können als interaktives Notizbuch verstanden werden. Tatsächlich sind solche Notebooks nicht nur zum Lernen sondern auch für den ingenieurpraktischen Alltag sehr sinnvoll. Man kann dabei leicht Auswertungen, Analysen und Dokumentation an einem Ort zusammenführen. Größere Programmcodes können zwar manchmal in Notebooks vorteilhaft entwickelt und getestet werden, diese werden dann aber doch meist \"klassisch\" als Python\\-Module gespeichert. Diese Python\\-Module können dann aber wieder in jupyter notebooks geladen werden. Damit kann man Programmcode \\(im Hintergrund als Modul\\) und Auswertung \\(im Notebook\\) trennen. \n",
    "\n",
    "#### Zellstruktur\n",
    "Die Notebooks bestehen aus einzelnen Zellen. Diese Zellen können entweder Text oder Programmcode enthalten. Der Programmcode einer Zelle kann mit \"Strg + Enter\" ausgeführt werden. \n",
    "\n",
    "Führen Sie die folgenden Zellen in verschiedener Reihenfolge aus, um das Verhalten kennenzulernen.\n"
   ]
  },
  {
   "cell_type": "code",
   "execution_count": 1,
   "metadata": {},
   "outputs": [
    {
     "name": "stdout",
     "output_type": "stream",
     "text": [
      "Hallo Welt\n"
     ]
    }
   ],
   "source": [
    "print(\"Hallo Welt\")"
   ]
  },
  {
   "cell_type": "code",
   "execution_count": 2,
   "metadata": {},
   "outputs": [],
   "source": [
    "a = 10\n",
    "b = 2"
   ]
  },
  {
   "cell_type": "code",
   "execution_count": 3,
   "metadata": {},
   "outputs": [
    {
     "name": "stdout",
     "output_type": "stream",
     "text": [
      "20\n"
     ]
    }
   ],
   "source": [
    "print(a*b)"
   ]
  },
  {
   "cell_type": "markdown",
   "metadata": {},
   "source": [
    "## Definieren der benötigten Funktionen\n",
    "\n",
    "Führen Sie die folgende Zelle unverändert aus, um die im Folgenden für die Analyse von Klebverbindungen benötigten Funktionen zu definieren. Es wird damit das Sandwich-Modell definiert:\n",
    "  * _Weißgraeber, P., Stein, N., & Becker, W. (2014). A general sandwich-type model for adhesive joints with composite adherends. International Journal of Adhesion and Adhesives, 55, 56-63._"
   ]
  },
  {
   "cell_type": "code",
   "execution_count": 2,
   "metadata": {},
   "outputs": [],
   "source": [
    "import Sandwich\n",
    "import numpy as np\n",
    "import Materials"
   ]
  },
  {
   "cell_type": "markdown",
   "metadata": {},
   "source": [
    "# Berechnungen verschiedener Klebverbindungen\n",
    "\n",
    "Im Folgenden werden mit dem Sandwich-Modell einige verschiedene Klebverbindungen analysieren. Nutzen Sie dabei das Notebook, um die Aufgaben zu bearbeiten aber auch um mit anderen Werten \"rumzuspielen\". Sie können dazu auch Zellen kopieren und dann verändern. "
   ]
  },
  {
   "cell_type": "markdown",
   "metadata": {},
   "source": [
    "## Vorbemerkungen\n",
    "\n",
    "Bitte verwenden Sie für die Lösungen die folgenden Materialkennwerte::<br>\n",
    "Stahl:    $E = 210\\,\\mathrm{GPa}$, $\\nu = 0,3$<br>\n",
    "Aluminum: $E = 70\\,\\mathrm{GPa}$, $\\nu = 0,33$<br>\n",
    "Epoxy:     $E = 3,9\\,\\mathrm{GPa}$, $\\nu = 0,36$<br>\n",
    "CFK: $E_{11}=135\\,\\mathrm{GPa}$, $E_{22}=10\\,\\mathrm{GPa}$, $G_{12}=5\\,\\mathrm{GPa}$, $G_{23}=3,846\\,\\mathrm{GPa}$, $\\nu_{12}=0,27$, $\\nu_{23}=0,3$"
   ]
  },
  {
   "cell_type": "markdown",
   "metadata": {},
   "source": [
    "## Aufgabe 1\n",
    "Untersuchen Sie die Schub- und Schälspannungen in einer einschnittigen Überlappungsfügung mit einer Überlappungslänge von 25 mm unter einer Last von $N_{11} = N_{22}=2\\,\\mathrm{kN}$, $Q_{11} = Q_{22}=22\\,\\mathrm{N}$ und $M_{11} = - M_{22}=2,2\\,\\mathrm{kN/mm}$. <br>Die beiden Fügepartner mit einer Dicke von h = 2 mm sind aus Stahl. <br>Als Klebstoff wurde ein Epoxy mit einer Klebschichtdicke von 0,2 mm eingesetzt. \n",
    "<br>Die Breite der Fügung beträgt b = 10 mm.\n"
   ]
  },
  {
   "cell_type": "code",
   "execution_count": null,
   "metadata": {},
   "outputs": [],
   "source": [
    "# Geometrie der Sandwich-Layer\n",
    "h1 = \n",
    "h2 = \n",
    "t = \n",
    "b = \n",
    "L0 = \n",
    "\n",
    "#Werkstoffeigenschaften Fügeteil\n",
    "\n",
    "E_Adherend = \n",
    "nu_Adherend = \n",
    "Adherend1 = Materials.Material_Adherend(\"Adherend\", E_Adherend, nu_Adherend)\n",
    "\n",
    "# ABDMatrix der Fügeteile\n",
    "Adherend1.computeABD_isotrop(h1)\n",
    "Adherend2 = Materials.Material_Adherend(\"Adherend2\", E_Adherend, nu_Adherend)\n",
    "Adherend2.computeABD_isotrop(h2)\n",
    "\n",
    "# Werkstoffeigenschaften Klebstoff\n",
    "E_Adhesive = \n",
    "nu_Adhesive = \n",
    "Adhesive = Materials.Material_Adhesive(\"AVR\", E_Adhesive, nu_Adhesive)\n",
    "\n",
    "# Schnittkräfte (auf die Breite bezogen)\n",
    "#SF = [N11, V11, M11,   N12, V12, M12,   N21, V21, M21,   N22, V22, M22]\n",
    "SF = [2000 / b, 22 / b, 2200 / b,   0 / b, 0 / b, 0 / b,   0 / b, 0 / b, 0 / b,   2000 / b, 22 / b, -2200 / b,]\n",
    "\n",
    "# Sandwich-Layer definieren (Höhe Adherend1 Höhe Adherend2, Höhe Klebschicht, Überlappungslänge, Breite, Schnittkräfte, Adherend1, Adherend2, Adhesive)\n",
    "Sand1 = Sandwich.Sandwich_Layer(h1, h2, t, L0, b, SF, Adherend1, Adherend2, Adhesive)\n",
    "\n",
    "# Berechnen der Spannungverteilung (Schnittkräfte, Überlappungslänge, Point of interest, Seite des Point of interest (True= Links; False= Rechts), Daten überschreiben (True, False))\n",
    "Sand1.linearelasticsandwich_stress(SF, L0, 0, True, True)\n",
    "\n",
    "#Ausgabe der Spannungsverteilung als plot\n",
    "Sand1.Sol.plot_stress()"
   ]
  },
  {
   "cell_type": "markdown",
   "metadata": {},
   "source": [
    "## Aufgabe 2\n",
    "Untersuchen Sie einen aufgeklebten Doppler, bei welchem die Grundplatte unter einer Zugbelastung von 3 kN steht. Nutzen Sie die gleichen Parameter wie in Aufgabe 1.<br>\n",
    "Diskutieren Sie das Ergebnis.<br>\n",
    "Wie ändern sich die Spannungen in der Klebschicht, wenn statt einem Stahlblech ein Aluminiumblech aufgeklebt wird?<br>\n",
    "Überlegen Sie, welche Vor- und Nachteile das hat.<br>\n"
   ]
  },
  {
   "cell_type": "code",
   "execution_count": null,
   "metadata": {},
   "outputs": [],
   "source": [
    "h1 = \n",
    "h2 = \n",
    "t = \n",
    "b = \n",
    "L0 = \n",
    "\n",
    "#Werkstoffeigenschaften Fügeteil1 Stahl\n",
    "E_Adherend1 = \n",
    "nu_Adherend1 = \n",
    "Adherend1 = Materials.Material_Adherend(\"Adherend\", E_Adherend1, nu_Adherend1)\n",
    "\n",
    "# ABDMatrix des Fügeteils\n",
    "Adherend1.computeABD_isotrop(h1)\n",
    "\n",
    "#Werkstoffeigenschaften Fügeteil2 Aluminium\n",
    "E_Adherend2 = \n",
    "nu_Adherend2 = \n",
    "Adherend2 = Materials.Material_Adherend(\"Adherend\", E_Adherend2, nu_Adherend2)\n",
    "\n",
    "# ABDMatrix des Fügeteils\n",
    "Adherend2.computeABD_isotrop(h2)\n",
    "\n",
    "\n",
    "#Werkstoffeigenschaften Klebstoff\n",
    "E_Adhesive = \n",
    "nu_Adhesive = \n",
    "Adhesive = Materials.Material_Adhesive(\"AVR\", E_Adhesive, nu_Adhesive)\n",
    "\n",
    "# Schnittkräfte \n",
    "#SF = [N11, V11, M11,   N12, V12, M12,   N21, V21, M21,   N22, V22, M22]\n",
    "SF = [0, 0 , 0,   0, 0, 0,   3000 / b , 0, 0,   3000 / b, 0, 0]\n",
    "\n",
    "# Sandwich-Layer definieren (Höhe Adherend1 Höhe Adherend2, Höhe Klebschicht, Überlappungslänge, Breite, Schnittkräfte, Adherend1, Adherend2, Adhesive)\n",
    "Sand1 = Sandwich.Sandwich_Layer(h1, h2, t, L0, b, SF, Adherend1, Adherend1, Adhesive)\n",
    "Sand2 = Sandwich.Sandwich_Layer(h1, h2, t, L0, b, SF, Adherend2, Adherend1, Adhesive)\n",
    "\n",
    "# Berechnen der Spannungverteilung (Schnittkräfte, Überlappungslänge, Point of interest, Seite des Point of interest (True= Links; False= Rechts), Daten überschreiben (True, False))\n",
    "Sand1.linearelasticsandwich_stress(SF, L0, 0, True, True)\n",
    "Sand2.linearelasticsandwich_stress(SF, L0, 0, True, True)\n",
    "#Ausgabe der Spannungsverteilung als plot\n",
    "Sand1.Sol.plot_multi_stress(Sand2.Sol.dx, Sand2.Sol.tauxz, Sand2.Sol.sigzz)\n"
   ]
  },
  {
   "cell_type": "markdown",
   "metadata": {},
   "source": [
    "## Aufgabe 3\n",
    "Eine zweischnittige Verbindung kann abgebildet werden, wenn die Biege- und Schubsteifigkeit eines Fügeteils als unendlich (bzw. mit einem sehr hohen Wert) angenommen wird. Warum?<br>\n",
    "Untersuchen Sie die Spannungen in einer zweischnittigen Verbindung, die der aus Aufgabe 1 entspricht. Halbieren Sie dazu die Dicken der Fügeteile, um der Symmetrie zu entsprechen.<br>\n",
    "Wie verändern sich die Spannungen?<br>"
   ]
  },
  {
   "cell_type": "code",
   "execution_count": null,
   "metadata": {},
   "outputs": [
    {
     "ename": "SyntaxError",
     "evalue": "invalid syntax (3374307123.py, line 2)",
     "output_type": "error",
     "traceback": [
      "\u001b[1;36m  Cell \u001b[1;32mIn[11], line 2\u001b[1;36m\u001b[0m\n\u001b[1;33m    h1 =\u001b[0m\n\u001b[1;37m         ^\u001b[0m\n\u001b[1;31mSyntaxError\u001b[0m\u001b[1;31m:\u001b[0m invalid syntax\n"
     ]
    }
   ],
   "source": [
    "# Geometrie der Sandwich-Layer\n",
    "h1 = \n",
    "h2 = \n",
    "t = \n",
    "b = \n",
    "L0 = \n",
    "\n",
    "#Werkstoffeigenschaften Fügeteil1\n",
    "E_Adherend1 = \n",
    "nu_Adherend1 = \n",
    "Adherend1 = Materials.Material_Adherend(\"Adherend\", E_Adherend1, nu_Adherend1)\n",
    "\n",
    "# ABDMatrix des Fügeteils\n",
    "Adherend1.computeABD_isotrop(h1)\n",
    "\n",
    "#Werkstoffeigenschaften Fügeteil2\n",
    "E_Adherend2 = \n",
    "nu_Adherend2 = \n",
    "Adherend2 = Materials.Material_Adherend(\"Adherend\", E_Adherend2, nu_Adherend2)\n",
    "\n",
    "# ABDMatrix des Fügeteils\n",
    "Adherend2.computeABD_isotrop(h2)\n",
    "# Die Funktion computeABD_isotrop gibt Arrays mit folgenden Einträgen zurück: [A11, B11, D11, A55, k]\n",
    "# Da bei Python der erste Eintrag eines Array mit dem Index \"0\" angegeben wird, \n",
    "# sind die Biegesteifigkeit D11 und die Schubsteifigkeit A55 die Einträge \"2\" und \"3\" des Arrays\n",
    "Adherend2.M[2] = \n",
    "Adherend2.M[3] = \n",
    "\n",
    "#Werkstoffeigenschaften Klebstoff\n",
    "E_Adhesive = \n",
    "nu_Adhesive = \n",
    "Adhesive = Materials.Material_Adhesive(\"AVR\", E_Adhesive, nu_Adhesive)\n",
    "\n",
    "# Schnittkräfte \n",
    "\n",
    "#SF = [N11, V11, M11,   N12, V12, M12,   N21, V21, M21,   N22, V22, M22]\n",
    "SF = [1000 / b , 0, 0,   0, 0, 0,   0, 0, 0,   1000 / b, 0, 0,]\n",
    "\n",
    "# Sandwich-Layer definieren (Höhe Adherend1 Höhe Adherend2, Höhe Klebschicht, Überlappungslänge, Breite, Schnittkräfte, Adherend1, Adherend2, Adhesive)\n",
    "Sand1 = Sandwich.Sandwich_Layer(h1, h2, t, L0, b, SF, Adherend1, Adherend2, Adhesive)\n",
    "\n",
    "# Berechnen der Spannungverteilung (Schnittkräfte, Überlappungslänge, Point of interest, Seite des Point of interest (True= Links; False= Rechts), Daten überschreiben (True, False))\n",
    "Sand1.linearelasticsandwich_stress(SF, L0, 0, True, True)\n",
    "\n",
    "#Ausgabe der Spannungsverteilung als plot\n",
    "Sand1.Sol.plot_stress()\n",
    "#Sand1.Sol.plot_multi_stress(Sand2.Sol.dx, Sand2.Sol.tauxz, Sand2.Sol.sigzz)"
   ]
  },
  {
   "cell_type": "markdown",
   "metadata": {},
   "source": [
    "## Aufgabe 4\n",
    "Wie ändert sich die maximale Schubspannung in der einschnittigen Fügung aus Aufgabe 1 in Abhängigkeit von der Überlappungslänge?<br>"
   ]
  },
  {
   "cell_type": "code",
   "execution_count": null,
   "metadata": {},
   "outputs": [],
   "source": [
    "\n",
    "# Geometrie der Sandwich-Layer\n",
    "h1 = \n",
    "h2 = \n",
    "t =  \n",
    "b = \n",
    "L0 = \n",
    "\n",
    "#Werkstoffeigenschaften Fügeteil1\n",
    "\n",
    "E_Adherend = \n",
    "nu_Adherend = \n",
    "Adherend1 = Materials.Material_Adherend(\"Adherend\",E_Adherend, nu_Adherend)\n",
    "\n",
    "# ABDMatrix des Fügeteils\n",
    "Adherend1.computeABD_isotrop(h1)\n",
    "\n",
    "#Werkstoffeigenschaften Fügeteil2\n",
    "\n",
    "Adherend2 = Materials.Material_Adherend(\"Adherend\", E_Adherend, nu_Adherend)\n",
    "\n",
    "# ABDMatrix des Fügeteils\n",
    "Adherend2.computeABD_isotrop(h2)\n",
    "\n",
    "#Werkstoffeigenschaften Klebstoff\n",
    "E_Adhesive = \n",
    "nu_Adhesive = \n",
    "Adhesive = Materials.Material_Adhesive(\"AVR\", E_Adhesive, nu_Adhesive)\n",
    "\n",
    "# Schnittkräfte \n",
    "#SF = [N11, V11, M11,   N12, V12, M12,   N21, V21, M21,   N22, V22, M22]\n",
    "SF = [2000 / b, 22 / b, 2200 / b,   0 / b, 0 / b, 0 / b,   0 / b, 0 / b, 0 / b,   2000 / b, 22 / b, -2200 / b,]\n",
    "\n",
    "# Sandwich-Layer definieren (Höhe Adherend1 Höhe Adherend2, Höhe Klebschicht, Überlappungslänge, Breite, Schnittkräfte, Adherend1, Adherend2, Adhesive)\n",
    "Sand1 = Sandwich.Sandwich_Layer(h1, h2, t, L0, b, SF, Adherend1, Adherend2, Adhesive)\n",
    "\n",
    "# Vektor mit unterschiedliche Überlappungslängen definieren\n",
    "L_linspace=np.linspace(5, 30, 50)\n",
    "\n",
    "# Randspannung in Abhängikeit der Überlappungslänge berechnen\n",
    "Sand1.edge_stress(L_linspace)\n",
    "\n",
    "#Ausgabe der Spannung in Abhängigkeit der Überlappungslänge als plot\n",
    "Sand1.Sol.plot_stress_edge(\"tauxz\")"
   ]
  },
  {
   "cell_type": "markdown",
   "metadata": {},
   "source": [
    "## Zusatzaufgabe 5\n",
    "Berechnen Sie die Spannungen in der Klebschicht eines aufgeklebten Dopplers (wie in Aufgabe 2), wenn ein [90°/0°] oder ein [0°/90°] CFK-Laminat aufgeklebt wird.\n",
    "\n",
    "Die Material-Arrays `Adherend1.M` und `Adherend2.M` müssen die Einträge `[A11, B11, D11, A55, k]` enthalten.\n",
    "\n",
    "Nutzen Sie zur Berechnung von A11, B11 und D11 des Dopplers das Onlinetool unter \"https://www.efunda.com/formulae/solid_mechanics/composites/calc_ufrp_abd_layout.cfm\". Die Dicke der beiden Schichten des Laminats soll jeweils 1 mm betragen.\n",
    "\n",
    "(Zu beachten ist, dass die Ergebniss der Website in GPa ausgegeben werden hier allerdings MPa verwendet werden)\n",
    "\n",
    "Der Eintrag für A55 entspricht für ein [90°/0°]- und [0°/90°]-Laminat mit identischen Schichtdicken dem arithmetischen Mittel aus $G_{12}$ und $G_{23}$ multipliziert mit der Laminatdicke.\n",
    "\n",
    "Nehmen Sie als Schubkorrekturfaktor für beide Konfigurationen $k = 0,86$ an.\n"
   ]
  },
  {
   "cell_type": "code",
   "execution_count": null,
   "metadata": {},
   "outputs": [],
   "source": [
    "# Geometrie der Sandwich-Layer\n",
    "h1 = \n",
    "h2 = \n",
    "t = \n",
    "b = \n",
    "L0 = \n",
    "\n",
    "#Werkstoffeigenschaften Fügeteil1\n",
    "#E11\n",
    "E_Adherend1 =  \n",
    "\n",
    "#nu12\n",
    "nu_Adherend1 = \n",
    "\n",
    "Adherend1 = Materials.Material_Adherend(\"Adherend\", E_Adherend1, nu_Adherend1)\n",
    "\n",
    "# 0/90 Doppler:\n",
    "# ABDMatrix des Fügeteils\n",
    "Adherend1.M = [A11, B11, D11, A55, k]\n",
    "\n",
    "#Werkstoffeigenschaften Fügeteil2\n",
    "E_Adherend2 = \n",
    "nu_Adherend2 = \n",
    "\n",
    "Adherend2 = Materials.Material_Adherend(\"Adherend\", E_Adherend2, nu_Adherend2)\n",
    "\n",
    "# ABDMatrix des Fügeteils\n",
    "Adherend2.computeABD_isotrop(h2)\n",
    "\n",
    "\n",
    "#Werkstoffeigenschaften Klebstoff\n",
    "E_Adhesive = \n",
    "nu_Adhesive = \n",
    "Adhesive = Materials.Material_Adhesive(\"AVR\", E_Adhesive, nu_Adhesive)\n",
    "\n",
    "# Schnittkräfte \n",
    "#SF = [N11, V11, M11,   N12, V12, M12,   N21, V21, M21,   N22, V22, M22]\n",
    "SF = [0, 0 , 0,   0, 0, 0,   3000 / b , 0, 0,   3000 / b, 0, 0]\n",
    "\n",
    "# Sandwich-Layer definieren (Höhe Adherend1 Höhe Adherend2, Höhe Klebschicht, Überlappungslänge, Breite, Schnittkräfte, Adherend1, Adherend2, Adhesive)\n",
    "Sand1 = Sandwich.Sandwich_Layer(h1, h2, t, L0, b, SF, Adherend1, Adherend2, Adhesive)\n",
    "\n",
    "# Berechnen der Spannungverteilung (Schnittkräfte, Überlappungslänge, Point of interest, Seite des Point of interest (True= Links; False= Rechts), Daten überschreiben (True, False))\n",
    "Sand1.linearelasticsandwich_stress(SF, L0, 0, True, True)\n",
    "\n",
    "#Ausgabe der Spannungsverteilung als plot\n",
    "Sand1.Sol.plot_stress(\"0/90 Laminat\")\n",
    "\n",
    "# 90/0 Doppler:\n",
    "Adherend1.M = [A11, B11, D11, A55, k]\n",
    "\n",
    "# Sandwich-Layer definieren (Höhe Adherend1 Höhe Adherend2, Höhe Klebschicht, Überlappungslänge, Breite, Schnittkräfte, Adherend1, Adherend2, Adhesive)\n",
    "Sand1 = Sandwich.Sandwich_Layer(h1, h2, t, L0, b, SF, Adherend1, Adherend2, Adhesive)\n",
    "\n",
    "# Berechnen der Spannungverteilung (Schnittkräfte, Überlappungslänge, Point of interest, Seite des Point of interest (True= Links; False= Rechts), Daten überschreiben (True, False))\n",
    "Sand1.linearelasticsandwich_stress(SF, L0, 0, True, True)\n",
    "\n",
    "#Ausgabe der Spannungsverteilung als plot\n",
    "Sand1.Sol.plot_stress(\"90/0 Laminat\")\n",
    "\n"
   ]
  }
 ],
 "metadata": {
  "kernelspec": {
   "display_name": "Python 3",
   "language": "python",
   "name": "python3"
  },
  "language_info": {
   "codemirror_mode": {
    "name": "ipython",
    "version": 3
   },
   "file_extension": ".py",
   "mimetype": "text/x-python",
   "name": "python",
   "nbconvert_exporter": "python",
   "pygments_lexer": "ipython3",
   "version": "3.10.5"
  }
 },
 "nbformat": 4,
 "nbformat_minor": 2
}
